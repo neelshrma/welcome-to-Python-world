{
 "cells": [
  {
   "cell_type": "code",
   "execution_count": 33,
   "metadata": {},
   "outputs": [],
   "source": [
    "public={'a':'1',\n",
    "       'b' :'2',\n",
    "       'c' :'3',\n",
    "       'd' : '4',\n",
    "       'e' :'5',\n",
    "        'f' :'6',\n",
    "       'g' :'7',\n",
    "       'h' :'8',\n",
    "       'i' : '9',\n",
    "       'j' :'0',\n",
    "       'k' :'a',\n",
    "       'l' :'b',\n",
    "       'm' : 'c',\n",
    "       'n' : 'd',\n",
    "       'o' :'e',\n",
    "       'p' :'f',\n",
    "       'q' : 'g',\n",
    "       'r' :'h',\n",
    "       's' : 'i',\n",
    "       't' : 'j',\n",
    "       'u' : 'k',\n",
    "       'v' : 'l',\n",
    "       'w' : 'm',\n",
    "       'x' : 'n',\n",
    "       'y' : 'o',\n",
    "       'z' : 'p',\n",
    "       '0' : 'q',\n",
    "       '1':'r',\n",
    "       '2' : 's',\n",
    "       '3' : 't',\n",
    "       '4' : 'u',\n",
    "       '5' : 'v',\n",
    "       '6' : 'w',\n",
    "       '7' : 'x',\n",
    "       '8' : 'y',\n",
    "       '9' :'z',\n",
    "       ' ' : 'A',\n",
    "       '&' : 'B',\n",
    "       '*' : 'C',\n",
    "       '$' : 'D',\n",
    "       '#' : 'E',\n",
    "       '!' : 'N',\n",
    "       ''}"
   ]
  },
  {
   "cell_type": "code",
   "execution_count": 34,
   "metadata": {},
   "outputs": [
    {
     "name": "stdout",
     "output_type": "stream",
     "text": [
      "{'1': 'a', '2': 'b', '3': 'c', '4': 'd', '5': 'e', '6': 'f', '7': 'g', '8': 'h', '9': 'i', '0': 'j', 'a': 'k', 'b': 'l', 'c': 'm', 'd': 'n', 'e': 'o', 'f': 'p', 'g': 'q', 'h': 'r', 'i': 's', 'j': 't', 'k': 'u', 'l': 'v', 'm': 'w', 'n': 'x', 'o': 'y', 'p': 'z', 'q': '0', 'r': '1', 's': '2', 't': '3', 'u': '4', 'v': '5', 'w': '6', 'x': '7', 'y': '8', 'z': '9', 'A': ' ', 'B': '&', 'C': '*', 'D': '$', 'E': '#'}\n"
     ]
    }
   ],
   "source": [
    "private ={}\n",
    "for key in public :\n",
    "    private[public[key]]= key\n",
    "print(private)"
   ]
  },
  {
   "cell_type": "code",
   "execution_count": 26,
   "metadata": {},
   "outputs": [
    {
     "name": "stdout",
     "output_type": "stream",
     "text": [
      "encrypted data 85bbeAmehb4\n"
     ]
    }
   ],
   "source": [
    "data = \"Nilofar Sharma\"\n",
    "enc_data = \"\"\n",
    "for char in data :\n",
    "    enc_data = enc_data + public[char]\n",
    "print(\"encrypted data\",enc_data)"
   ]
  },
  {
   "cell_type": "code",
   "execution_count": 30,
   "metadata": {},
   "outputs": [
    {
     "name": "stdout",
     "output_type": "stream",
     "text": [
      "decrypted data hello world\n"
     ]
    }
   ],
   "source": [
    "data = \"85bbeAmehb4\"\n",
    "dec_data = \"\"\n",
    "for char in data :\n",
    "    dec_data= dec_data+private[char]\n",
    "print(\"decrypted data\",dec_data)"
   ]
  },
  {
   "cell_type": "code",
   "execution_count": null,
   "metadata": {},
   "outputs": [],
   "source": []
  }
 ],
 "metadata": {
  "kernelspec": {
   "display_name": "Python 3",
   "language": "python",
   "name": "python3"
  },
  "language_info": {
   "codemirror_mode": {
    "name": "ipython",
    "version": 3
   },
   "file_extension": ".py",
   "mimetype": "text/x-python",
   "name": "python",
   "nbconvert_exporter": "python",
   "pygments_lexer": "ipython3",
   "version": "3.6.5"
  }
 },
 "nbformat": 4,
 "nbformat_minor": 2
}
